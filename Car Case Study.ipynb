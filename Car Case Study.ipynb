{
 "cells": [
  {
   "cell_type": "code",
   "execution_count": 2,
   "id": "b39b8e2b",
   "metadata": {},
   "outputs": [
    {
     "name": "stdout",
     "output_type": "stream",
     "text": [
      "Enter the year: 2013\n",
      "Enter the make: Dodge\n",
      "Enter the model: dart\n",
      "Enter the number of doors: 4\n",
      "Enter the type of roof: normal\n",
      "\n",
      "Car Details:\n",
      "Vehicle type: car\n",
      "Year: 2013\n",
      "Make: Dodge\n",
      "Model: dart\n",
      "Number of doors: 4\n",
      "Type of roof: normal\n"
     ]
    }
   ],
   "source": [
    "class Vehicle:\n",
    "  def __init__(self):\n",
    "      self.vehicle_type = None\n",
    "  def set_vehicle_type(self, vehicle_type):\n",
    "      self.vehicle_type = vehicle_type\n",
    "class Automobile(Vehicle):\n",
    "  def __init__(self):\n",
    "      super().__init__()\n",
    "      self.year = None\n",
    "      self.make = None\n",
    "      self.model = None\n",
    "      self.doors = None\n",
    "      self.roof = None\n",
    "  def set_attributes(self, year, make, model, doors, roof):\n",
    "      self.year = year\n",
    "      self.make = make\n",
    "      self.model = model\n",
    "      self.doors = doors\n",
    "      self.roof = roof\n",
    "  def display_details(self):\n",
    "      print(\"Vehicle type: {}\".format(self.vehicle_type))\n",
    "      print(\"Year: {}\".format(self.year))\n",
    "      print(\"Make: {}\".format(self.make))\n",
    "      print(\"Model: {}\".format(self.model))\n",
    "      print(\"Number of doors: {}\".format(self.doors))\n",
    "      print(\"Type of roof: {}\".format(self.roof))\n",
    "def main():\n",
    "  car = Automobile()\n",
    "  vehicle_type = \"car\"\n",
    "  year = input(\"Enter the year: \")\n",
    "  make = input(\"Enter the make: \")\n",
    "  model = input(\"Enter the model: \")\n",
    "  doors = input(\"Enter the number of doors: \")\n",
    "  roof = input(\"Enter the type of roof: \")\n",
    "  car.set_vehicle_type(vehicle_type)\n",
    "  car.set_attributes(year, make, model, doors, roof)\n",
    "  print(\"\\nCar Details:\")\n",
    "  car.display_details()\n",
    "if __name__ == \"__main__\":\n",
    "  main()"
   ]
  },
  {
   "cell_type": "code",
   "execution_count": null,
   "id": "c383b9da",
   "metadata": {},
   "outputs": [],
   "source": []
  }
 ],
 "metadata": {
  "kernelspec": {
   "display_name": "Python 3 (ipykernel)",
   "language": "python",
   "name": "python3"
  },
  "language_info": {
   "codemirror_mode": {
    "name": "ipython",
    "version": 3
   },
   "file_extension": ".py",
   "mimetype": "text/x-python",
   "name": "python",
   "nbconvert_exporter": "python",
   "pygments_lexer": "ipython3",
   "version": "3.11.5"
  }
 },
 "nbformat": 4,
 "nbformat_minor": 5
}
